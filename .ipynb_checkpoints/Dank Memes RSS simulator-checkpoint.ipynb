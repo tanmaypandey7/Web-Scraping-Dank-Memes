{
 "cells": [
  {
   "cell_type": "code",
   "execution_count": 59,
   "metadata": {},
   "outputs": [],
   "source": [
    "import praw\n",
    "import pandas as pd\n",
    "import datetime as dt"
   ]
  },
  {
   "cell_type": "code",
   "execution_count": 60,
   "metadata": {},
   "outputs": [],
   "source": [
    "reddit=praw.Reddit(client_id='GhsYG0ux9oxFOA',\\\n",
    "                   client_secret='HYbxoqiyP3XfBFhmhFd1ORhsmfM',\\\n",
    "                  user_agent='AutoNibba',\\\n",
    "                  username='killingisbad',\\\n",
    "                  password='friendsr2good')"
   ]
  },
  {
   "cell_type": "code",
   "execution_count": 61,
   "metadata": {},
   "outputs": [],
   "source": [
    "subreddit=reddit.subreddit(\"dankmemes\")\n",
    "posts=subreddit.stream.submissions()"
   ]
  },
  {
   "cell_type": "code",
   "execution_count": 64,
   "metadata": {},
   "outputs": [
    {
     "name": "stdout",
     "output_type": "stream",
     "text": [
      "Happy We Are Number One Day! https://i.redd.it/hyuwfspg7sf11.jpg\n",
      "Exactly 🤷 https://i.redd.it/tkdek0ctxuf11.jpg\n",
      "t h i s n i g g a e a t i n g b e a n s https://i.redd.it/5n4lnsjsyuf11.jpg\n",
      "Triggered https://i.redd.it/hu3ho8nz2vf11.jpg\n",
      "We don't have coke is pepsi ok https://i.redd.it/oephfobscuf11.jpg\n",
      "thenk yu https://i.redd.it/txxtt8peguf11.png\n",
      "In Soviet Russia: https://i.imgur.com/dsLREsg.jpg\n",
      "Googoo gaga gogoo https://i.redd.it/1xzpl5r9ctf11.jpg\n",
      "Don’t attack Belgium https://i.redd.it/u9tlxln12uf11.jpg\n",
      "Bow down Troglodytes https://i.redd.it/yrmbqof2wuf11.jpg\n"
     ]
    }
   ],
   "source": [
    "for submission in subreddit.hot(limit=10):\n",
    "    print(submission.title,submission.url)"
   ]
  },
  {
   "cell_type": "code",
   "execution_count": 6,
   "metadata": {},
   "outputs": [],
   "source": []
  },
  {
   "cell_type": "code",
   "execution_count": 65,
   "metadata": {},
   "outputs": [],
   "source": [
    "def df_function(sort_by):\n",
    "    topics_dict={ \"score\":[],\n",
    "            \"title\":[],\n",
    "            \"comment_count\":[],\n",
    "            \"date_created\":[],\n",
    "            \"url\":[]}\n",
    "    if sort_by=='rising':\n",
    "        memes=subreddit.rising()\n",
    "    elif sort_by=='hot':\n",
    "        memes=subreddit.hot()        \n",
    "    elif sort_by=='new':\n",
    "        memes=subreddit.new()\n",
    "    elif sort_by=='top':\n",
    "        memes=subreddit.top()\n",
    "    elif sort_by=='controversial':\n",
    "        memes=subreddit.controversial()   \n",
    "    else:\n",
    "        print(\"Improper input.\")\n",
    "    for submission in memes:    \n",
    "        topics_dict[\"title\"].append(submission.title)\n",
    "        topics_dict[\"score\"].append(submission.score)\n",
    "        topics_dict[\"comment_count\"].append(submission.num_comments)\n",
    "        topics_dict[\"url\"].append(submission.url)\n",
    "        topics_dict[\"date_created\"].append(submission.created)\n",
    "    \n",
    "    DankMemes=pd.DataFrame(topics_dict)\n",
    "    \n",
    "    z1=[DankMemes['title'][i]+\" \"+DankMemes['url'][i] for i in range(10)]\n",
    "    z2=' \\n\\n '.join(z1)\n",
    "    \n",
    "    return z2"
   ]
  },
  {
   "cell_type": "code",
   "execution_count": 9,
   "metadata": {},
   "outputs": [
    {
     "data": {
      "text/html": [
       "<div>\n",
       "<style scoped>\n",
       "    .dataframe tbody tr th:only-of-type {\n",
       "        vertical-align: middle;\n",
       "    }\n",
       "\n",
       "    .dataframe tbody tr th {\n",
       "        vertical-align: top;\n",
       "    }\n",
       "\n",
       "    .dataframe thead th {\n",
       "        text-align: right;\n",
       "    }\n",
       "</style>\n",
       "<table border=\"1\" class=\"dataframe\">\n",
       "  <thead>\n",
       "    <tr style=\"text-align: right;\">\n",
       "      <th></th>\n",
       "      <th>score</th>\n",
       "      <th>title</th>\n",
       "      <th>comment_count</th>\n",
       "      <th>date_created</th>\n",
       "      <th>url</th>\n",
       "    </tr>\n",
       "  </thead>\n",
       "  <tbody>\n",
       "    <tr>\n",
       "      <th>0</th>\n",
       "      <td>25</td>\n",
       "      <td>what if his son just wanted a camaro? 😓</td>\n",
       "      <td>2</td>\n",
       "      <td>1.534206e+09</td>\n",
       "      <td>https://i.redd.it/2iggf6k70wf11.jpg</td>\n",
       "    </tr>\n",
       "    <tr>\n",
       "      <th>1</th>\n",
       "      <td>48</td>\n",
       "      <td>gO To yOUr ROoM</td>\n",
       "      <td>2</td>\n",
       "      <td>1.534205e+09</td>\n",
       "      <td>https://i.redd.it/6irk9nqexvf11.jpg</td>\n",
       "    </tr>\n",
       "    <tr>\n",
       "      <th>2</th>\n",
       "      <td>18</td>\n",
       "      <td>I’m unbanned!</td>\n",
       "      <td>1</td>\n",
       "      <td>1.534207e+09</td>\n",
       "      <td>https://i.redd.it/3yglceyl0wf11.jpg</td>\n",
       "    </tr>\n",
       "    <tr>\n",
       "      <th>3</th>\n",
       "      <td>26</td>\n",
       "      <td>LeGends never die</td>\n",
       "      <td>4</td>\n",
       "      <td>1.534206e+09</td>\n",
       "      <td>https://i.redd.it/79r5sr7yyvf11.jpg</td>\n",
       "    </tr>\n",
       "    <tr>\n",
       "      <th>4</th>\n",
       "      <td>33</td>\n",
       "      <td>Commit despacito</td>\n",
       "      <td>2</td>\n",
       "      <td>1.534206e+09</td>\n",
       "      <td>https://i.redd.it/dnddzhzzxvf11.jpg</td>\n",
       "    </tr>\n",
       "    <tr>\n",
       "      <th>5</th>\n",
       "      <td>18</td>\n",
       "      <td>And they make the krrshkksh-sound</td>\n",
       "      <td>3</td>\n",
       "      <td>1.534206e+09</td>\n",
       "      <td>https://i.redd.it/4okm3i020wf11.png</td>\n",
       "    </tr>\n",
       "    <tr>\n",
       "      <th>6</th>\n",
       "      <td>17</td>\n",
       "      <td>BROTHER MAY I PERHAPS ACQUIRE A SQUAREN'T DELI...</td>\n",
       "      <td>4</td>\n",
       "      <td>1.534206e+09</td>\n",
       "      <td>https://i.redd.it/b4xdmb2wzvf11.png</td>\n",
       "    </tr>\n",
       "    <tr>\n",
       "      <th>7</th>\n",
       "      <td>11</td>\n",
       "      <td>Ramadan really be like that 😩👌</td>\n",
       "      <td>7</td>\n",
       "      <td>1.534207e+09</td>\n",
       "      <td>https://i.redd.it/3pzu4vtj0wf11.jpg</td>\n",
       "    </tr>\n",
       "    <tr>\n",
       "      <th>8</th>\n",
       "      <td>70</td>\n",
       "      <td>Rest In Peace Ninja (1991-2018)</td>\n",
       "      <td>7</td>\n",
       "      <td>1.534204e+09</td>\n",
       "      <td>https://i.redd.it/w53f2pehsvf11.jpg</td>\n",
       "    </tr>\n",
       "    <tr>\n",
       "      <th>9</th>\n",
       "      <td>21</td>\n",
       "      <td>Hippity hoppity memes are OUR property</td>\n",
       "      <td>6</td>\n",
       "      <td>1.534206e+09</td>\n",
       "      <td>https://i.redd.it/u5b34ywdyvf11.png</td>\n",
       "    </tr>\n",
       "  </tbody>\n",
       "</table>\n",
       "</div>"
      ],
      "text/plain": [
       "   score                                              title  comment_count  \\\n",
       "0     25            what if his son just wanted a camaro? 😓              2   \n",
       "1     48                                    gO To yOUr ROoM              2   \n",
       "2     18                                      I’m unbanned!              1   \n",
       "3     26                                  LeGends never die              4   \n",
       "4     33                                   Commit despacito              2   \n",
       "5     18                  And they make the krrshkksh-sound              3   \n",
       "6     17  BROTHER MAY I PERHAPS ACQUIRE A SQUAREN'T DELI...              4   \n",
       "7     11                     Ramadan really be like that 😩👌              7   \n",
       "8     70                    Rest In Peace Ninja (1991-2018)              7   \n",
       "9     21             Hippity hoppity memes are OUR property              6   \n",
       "\n",
       "   date_created                                  url  \n",
       "0  1.534206e+09  https://i.redd.it/2iggf6k70wf11.jpg  \n",
       "1  1.534205e+09  https://i.redd.it/6irk9nqexvf11.jpg  \n",
       "2  1.534207e+09  https://i.redd.it/3yglceyl0wf11.jpg  \n",
       "3  1.534206e+09  https://i.redd.it/79r5sr7yyvf11.jpg  \n",
       "4  1.534206e+09  https://i.redd.it/dnddzhzzxvf11.jpg  \n",
       "5  1.534206e+09  https://i.redd.it/4okm3i020wf11.png  \n",
       "6  1.534206e+09  https://i.redd.it/b4xdmb2wzvf11.png  \n",
       "7  1.534207e+09  https://i.redd.it/3pzu4vtj0wf11.jpg  \n",
       "8  1.534204e+09  https://i.redd.it/w53f2pehsvf11.jpg  \n",
       "9  1.534206e+09  https://i.redd.it/u5b34ywdyvf11.png  "
      ]
     },
     "execution_count": 9,
     "metadata": {},
     "output_type": "execute_result"
    }
   ],
   "source": [
    "DankMemes.head(10)"
   ]
  },
  {
   "cell_type": "code",
   "execution_count": 10,
   "metadata": {},
   "outputs": [],
   "source": [
    "DankMemes['date_created'] = pd.to_datetime(DankMemes['date_created'],unit='s')"
   ]
  },
  {
   "cell_type": "code",
   "execution_count": 11,
   "metadata": {},
   "outputs": [
    {
     "data": {
      "text/html": [
       "<div>\n",
       "<style scoped>\n",
       "    .dataframe tbody tr th:only-of-type {\n",
       "        vertical-align: middle;\n",
       "    }\n",
       "\n",
       "    .dataframe tbody tr th {\n",
       "        vertical-align: top;\n",
       "    }\n",
       "\n",
       "    .dataframe thead th {\n",
       "        text-align: right;\n",
       "    }\n",
       "</style>\n",
       "<table border=\"1\" class=\"dataframe\">\n",
       "  <thead>\n",
       "    <tr style=\"text-align: right;\">\n",
       "      <th></th>\n",
       "      <th>score</th>\n",
       "      <th>title</th>\n",
       "      <th>comment_count</th>\n",
       "      <th>date_created</th>\n",
       "      <th>url</th>\n",
       "    </tr>\n",
       "  </thead>\n",
       "  <tbody>\n",
       "    <tr>\n",
       "      <th>0</th>\n",
       "      <td>25</td>\n",
       "      <td>what if his son just wanted a camaro? 😓</td>\n",
       "      <td>2</td>\n",
       "      <td>2018-08-14 00:26:56</td>\n",
       "      <td>https://i.redd.it/2iggf6k70wf11.jpg</td>\n",
       "    </tr>\n",
       "    <tr>\n",
       "      <th>1</th>\n",
       "      <td>48</td>\n",
       "      <td>gO To yOUr ROoM</td>\n",
       "      <td>2</td>\n",
       "      <td>2018-08-14 00:11:14</td>\n",
       "      <td>https://i.redd.it/6irk9nqexvf11.jpg</td>\n",
       "    </tr>\n",
       "    <tr>\n",
       "      <th>2</th>\n",
       "      <td>18</td>\n",
       "      <td>I’m unbanned!</td>\n",
       "      <td>1</td>\n",
       "      <td>2018-08-14 00:29:10</td>\n",
       "      <td>https://i.redd.it/3yglceyl0wf11.jpg</td>\n",
       "    </tr>\n",
       "    <tr>\n",
       "      <th>3</th>\n",
       "      <td>26</td>\n",
       "      <td>LeGends never die</td>\n",
       "      <td>4</td>\n",
       "      <td>2018-08-14 00:19:52</td>\n",
       "      <td>https://i.redd.it/79r5sr7yyvf11.jpg</td>\n",
       "    </tr>\n",
       "    <tr>\n",
       "      <th>4</th>\n",
       "      <td>33</td>\n",
       "      <td>Commit despacito</td>\n",
       "      <td>2</td>\n",
       "      <td>2018-08-14 00:14:33</td>\n",
       "      <td>https://i.redd.it/dnddzhzzxvf11.jpg</td>\n",
       "    </tr>\n",
       "  </tbody>\n",
       "</table>\n",
       "</div>"
      ],
      "text/plain": [
       "   score                                    title  comment_count  \\\n",
       "0     25  what if his son just wanted a camaro? 😓              2   \n",
       "1     48                          gO To yOUr ROoM              2   \n",
       "2     18                            I’m unbanned!              1   \n",
       "3     26                        LeGends never die              4   \n",
       "4     33                         Commit despacito              2   \n",
       "\n",
       "         date_created                                  url  \n",
       "0 2018-08-14 00:26:56  https://i.redd.it/2iggf6k70wf11.jpg  \n",
       "1 2018-08-14 00:11:14  https://i.redd.it/6irk9nqexvf11.jpg  \n",
       "2 2018-08-14 00:29:10  https://i.redd.it/3yglceyl0wf11.jpg  \n",
       "3 2018-08-14 00:19:52  https://i.redd.it/79r5sr7yyvf11.jpg  \n",
       "4 2018-08-14 00:14:33  https://i.redd.it/dnddzhzzxvf11.jpg  "
      ]
     },
     "execution_count": 11,
     "metadata": {},
     "output_type": "execute_result"
    }
   ],
   "source": [
    "DankMemes.head()"
   ]
  },
  {
   "cell_type": "code",
   "execution_count": 12,
   "metadata": {},
   "outputs": [],
   "source": [
    "z1=[DankMemes['title'][i]+\" \"+DankMemes['url'][i] for i in range(10)]\n",
    "z2=' \\n\\n '.join(z1)"
   ]
  },
  {
   "cell_type": "code",
   "execution_count": 13,
   "metadata": {},
   "outputs": [],
   "source": [
    "reddit.redditor('PM_ME_RNSCAPE_CODES').message('Here are your dank memes', z2)"
   ]
  },
  {
   "cell_type": "code",
   "execution_count": 78,
   "metadata": {},
   "outputs": [],
   "source": [
    "GREETING_KEYWORDS = (\"dank memes\", \"dank\", \"offensive\")\n",
    "\n",
    "\n",
    "\n",
    "def check_for_greeting(sentence,sort_by):\n",
    "    \"\"\"If any of the words in the user's input was a greeting, return a greeting response\"\"\"\n",
    "    z2=df_function(sort_by)\n",
    "    \n",
    "    if sentence.lower() in GREETING_KEYWORDS:\n",
    "        return (reddit.redditor('killingisbad').message('Here are your dank memes', z2))"
   ]
  },
  {
   "cell_type": "code",
   "execution_count": 79,
   "metadata": {},
   "outputs": [
    {
     "name": "stdout",
     "output_type": "stream",
     "text": [
      "Enter the query\n",
      "dank\n",
      "sort by?\n",
      "rising\n"
     ]
    }
   ],
   "source": [
    "print(\"Enter the query\")\n",
    "sentence=input()\n",
    "print(\"sort by?\")\n",
    "ans=input()\n",
    "check_for_greeting(sentence,sort_by=ans)"
   ]
  },
  {
   "cell_type": "code",
   "execution_count": null,
   "metadata": {},
   "outputs": [],
   "source": []
  }
 ],
 "metadata": {
  "kernelspec": {
   "display_name": "Python 3",
   "language": "python",
   "name": "python3"
  },
  "language_info": {
   "codemirror_mode": {
    "name": "ipython",
    "version": 3
   },
   "file_extension": ".py",
   "mimetype": "text/x-python",
   "name": "python",
   "nbconvert_exporter": "python",
   "pygments_lexer": "ipython3",
   "version": "3.6.5"
  }
 },
 "nbformat": 4,
 "nbformat_minor": 2
}
