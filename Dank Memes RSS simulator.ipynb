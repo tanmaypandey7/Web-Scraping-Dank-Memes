{
 "cells": [
  {
   "cell_type": "code",
   "execution_count": 4,
   "metadata": {},
   "outputs": [],
   "source": [
    "import praw\n",
    "import pandas as pd\n",
    "import datetime as dt"
   ]
  },
  {
   "cell_type": "code",
   "execution_count": 10,
   "metadata": {},
   "outputs": [],
   "source": [
    "reddit=praw.Reddit(client_id='CLIENTID',\\\n",
    "                   client_secret='CLIENTSECRET',\\\n",
    "                  user_agent='BOTNAME',\\\n",
    "                  username='REDDIT_USERNAME',\\\n",
    "                  password='PASSWORD')"
   ]
  },
  {
   "cell_type": "code",
   "execution_count": 11,
   "metadata": {},
   "outputs": [],
   "source": [
    "subreddit=reddit.subreddit(\"dankmemes\")\n",
    "posts=subreddit.stream.submissions()"
   ]
  },
  {
   "cell_type": "code",
   "execution_count": 12,
   "metadata": {},
   "outputs": [
    {
     "name": "stdout",
     "output_type": "stream",
     "text": [
      "NEW ERA EU MEMES https://i.redd.it/gceo39skbzl11.png\n",
      "Hol' up https://i.redd.it/2xrcpf00yyl11.jpg\n",
      "Let's spook those EU bad lads https://i.redd.it/hk5cfujqizl11.jpg\n",
      "mEmEs aRe iLLeGaL https://i.redd.it/elqergwc8zl11.jpg\n",
      "HE DID IT BOYS! #1 IN COMMENT SECTION https://i.redd.it/izk36i0hxxl11.png\n",
      "Voss does the floss https://i.redd.it/lkojtofe10m11.jpg\n",
      "Making memes after Article 13 has been approved https://i.redd.it/v6ohj0qcuyl11.png\n",
      "EU gets *OWNED* by SMART CITIZEN https://i.redd.it/9v0ytdx82zl11.jpg\n",
      "EU please don't delete https://i.redd.it/6ze84xst7yl11.png\n",
      "We will not go quietly into the night https://i.redd.it/nhi1u8aljzl11.jpg\n"
     ]
    }
   ],
   "source": [
    "for submission in subreddit.hot(limit=10):\n",
    "    print(submission.title,submission.url)"
   ]
  },
  {
   "cell_type": "code",
   "execution_count": 13,
   "metadata": {},
   "outputs": [],
   "source": [
    "def df_function(sort_by):\n",
    "    topics_dict={ \"score\":[],\n",
    "            \"title\":[],\n",
    "            \"comment_count\":[],\n",
    "            \"date_created\":[],\n",
    "            \"url\":[]}\n",
    "    if sort_by=='rising':\n",
    "        memes=subreddit.rising()\n",
    "    elif sort_by=='hot':\n",
    "        memes=subreddit.hot()        \n",
    "    elif sort_by=='new':\n",
    "        memes=subreddit.new()\n",
    "    elif sort_by=='top':\n",
    "        memes=subreddit.top()\n",
    "    elif sort_by=='controversial':\n",
    "        memes=subreddit.controversial()   \n",
    "    else:\n",
    "        print(\"Improper input.\")\n",
    "    for submission in memes:    \n",
    "        topics_dict[\"title\"].append(submission.title)\n",
    "        topics_dict[\"score\"].append(submission.score)\n",
    "        topics_dict[\"comment_count\"].append(submission.num_comments)\n",
    "        topics_dict[\"url\"].append(submission.url)\n",
    "        topics_dict[\"date_created\"].append(submission.created)\n",
    "    \n",
    "    DankMemes=pd.DataFrame(topics_dict)\n",
    "    \n",
    "    z1=[DankMemes['title'][i]+\" \"+DankMemes['url'][i] for i in range(10)]\n",
    "    z2=' \\n\\n '.join(z1)\n",
    "    \n",
    "    return z2"
   ]
  },
  {
   "cell_type": "code",
   "execution_count": null,
   "metadata": {},
   "outputs": [],
   "source": [
    "DankMemes['date_created'] = pd.to_datetime(DankMemes['date_created'],unit='s')"
   ]
  },
  {
   "cell_type": "code",
   "execution_count": null,
   "metadata": {},
   "outputs": [],
   "source": [
    "DankMemes.head()"
   ]
  },
  {
   "cell_type": "code",
   "execution_count": null,
   "metadata": {},
   "outputs": [],
   "source": [
    "z1=[DankMemes['title'][i]+\" \"+DankMemes['url'][i] for i in range(10)]\n",
    "z2=' \\n\\n '.join(z1)"
   ]
  },
  {
   "cell_type": "code",
   "execution_count": null,
   "metadata": {},
   "outputs": [],
   "source": [
    "reddit.redditor('PM_ME_RNSCAPE_CODES').message('Here are your dank memes', z2)"
   ]
  },
  {
   "cell_type": "code",
   "execution_count": 15,
   "metadata": {},
   "outputs": [],
   "source": [
    "GREETING_KEYWORDS = (\"dank memes\", \"dank\", \"offensive\")\n",
    "\n",
    "\n",
    "\n",
    "def check_for_greeting(sentence,sort_by):\n",
    "    \"\"\"If any of the words in the user's input was a greeting, return a greeting response\"\"\"\n",
    "    z2=df_function(sort_by)\n",
    "    \n",
    "    if sentence.lower() in GREETING_KEYWORDS:\n",
    "        return (reddit.redditor('killingisbad').message('Here are your dank memes', z2))"
   ]
  },
  {
   "cell_type": "code",
   "execution_count": 16,
   "metadata": {},
   "outputs": [
    {
     "name": "stdout",
     "output_type": "stream",
     "text": [
      "Enter the query\n",
      "dank\n",
      "sort by?\n",
      "hot\n"
     ]
    }
   ],
   "source": [
    "print(\"Enter the query\")\n",
    "sentence=input()\n",
    "print(\"sort by?\")\n",
    "ans=input()\n",
    "check_for_greeting(sentence,sort_by=ans)"
   ]
  }
 ],
 "metadata": {
  "kernelspec": {
   "display_name": "Python 3",
   "language": "python",
   "name": "python3"
  },
  "language_info": {
   "codemirror_mode": {
    "name": "ipython",
    "version": 3
   },
   "file_extension": ".py",
   "mimetype": "text/x-python",
   "name": "python",
   "nbconvert_exporter": "python",
   "pygments_lexer": "ipython3",
   "version": "3.6.5"
  }
 },
 "nbformat": 4,
 "nbformat_minor": 2
}
